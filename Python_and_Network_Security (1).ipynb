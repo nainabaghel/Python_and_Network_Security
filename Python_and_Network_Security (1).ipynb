{
  "nbformat": 4,
  "nbformat_minor": 0,
  "metadata": {
    "colab": {
      "name": "Python and Network Security.ipynb",
      "provenance": []
    },
    "kernelspec": {
      "name": "python3",
      "display_name": "Python 3"
    },
    "language_info": {
      "name": "python"
    }
  },
  "cells": [
    {
      "cell_type": "code",
      "metadata": {
        "colab": {
          "base_uri": "https://localhost:8080/"
        },
        "id": "n-CfOSHGhWgf",
        "outputId": "13cd1753-ae0e-4fb8-91bb-4ca6019438a6"
      },
      "source": [
        "import hashlib\n",
        "print(hashlib.algorithms_available)"
      ],
      "execution_count": 2,
      "outputs": [
        {
          "output_type": "stream",
          "text": [
            "{'sha1', 'md5', 'sha512', 'sha3_224', 'sha3_512', 'sha256', 'shake_256', 'sha384', 'sha224', 'sha3_384', 'sha3_256', 'blake2s', 'blake2b', 'shake_128'}\n"
          ],
          "name": "stdout"
        }
      ]
    },
    {
      "cell_type": "code",
      "metadata": {
        "colab": {
          "base_uri": "https://localhost:8080/"
        },
        "id": "e8k0NSfpkRLp",
        "outputId": "8becd1fb-8290-4ec6-9008-49785bb38e9f"
      },
      "source": [
        "# Python program to generate md5 of String data type.\n",
        "\n",
        "text = input(\"Enter something:\")\n",
        "#Encoding the input string using encode()\n",
        "hash_object = hashlib.md5(text.encode())\n",
        "#Passing the encoded string to MD5 hash function\n",
        "md5_hash = hash_object.hexdigest()\n",
        "md5_hash_1 = hash_object.digest()\n",
        "print(\"\\nMD5 of entered value is :\", md5_hash)\n",
        "print(\"The byte equivalent of entered value is :\", md5_hash_1)"
      ],
      "execution_count": 3,
      "outputs": [
        {
          "output_type": "stream",
          "text": [
            "Enter something:Naina\n",
            "\n",
            "MD5 of entered value is : e1f875940d41f21a417a9d30d455c556\n",
            "The byte equivalent of entered value is : b'\\xe1\\xf8u\\x94\\rA\\xf2\\x1aAz\\x9d0\\xd4U\\xc5V'\n"
          ],
          "name": "stdout"
        }
      ]
    }
  ]
}